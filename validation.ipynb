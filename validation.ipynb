{
 "cells": [
  {
   "cell_type": "code",
   "execution_count": 2,
   "metadata": {},
   "outputs": [
    {
     "name": "stdout",
     "output_type": "stream",
     "text": [
      "             tug_war_model  weighted_vote_45  weighted_vote  ensemble  \\\n",
      "PassengerId                                                             \n",
      "0013_01               True              True           True      True   \n",
      "0018_01              False             False          False     False   \n",
      "0019_01               True              True           True      True   \n",
      "0021_01               True              True           True      True   \n",
      "0023_01               True              True          False      True   \n",
      "\n",
      "             majority_vote_V3  majority_vote_V2  majority_vote  submission2  \\\n",
      "PassengerId                                                                   \n",
      "0013_01                  True              True           True         True   \n",
      "0018_01                 False             False          False        False   \n",
      "0019_01                  True              True           True         True   \n",
      "0021_01                  True              True           True         True   \n",
      "0023_01                 False              True           True         True   \n",
      "\n",
      "             submission1  \n",
      "PassengerId               \n",
      "0013_01             True  \n",
      "0018_01            False  \n",
      "0019_01             True  \n",
      "0021_01             True  \n",
      "0023_01             True  \n"
     ]
    }
   ],
   "source": [
    "import pandas as pd\n",
    "\n",
    "'''\n",
    "tug_war_model: 79.8\n",
    "submission_weighted_vote_45: 80.3\n",
    "submission_weighted_vote: 79.9\n",
    "ensemble_submission: 79.8\n",
    "submission_majority_vote_V3: 79.5\n",
    "submission_majority_vote_V2: 80.2\n",
    "submission_majority_vote: 80.5\n",
    "submission_2: 80\n",
    "submission_1: 79.8\n",
    "'''\n",
    "\n",
    "\n",
    "\n",
    "# List your submission files and a short model name for each\n",
    "files_and_names = {\n",
    "    'tug_war_model.csv': 'tug_war_model',\n",
    "    'submission_weighted_vote_45.csv': 'weighted_vote_45',\n",
    "    'submission_weighted_vote.csv': 'weighted_vote',\n",
    "    'ensemble_submission.csv': 'ensemble',\n",
    "    'submission_majority_vote_V3.csv': 'majority_vote_V3',\n",
    "    'submission_majority_vote_V2.csv': 'majority_vote_V2',\n",
    "    'submission_majority_vote.csv': 'majority_vote',\n",
    "    'submission2.csv': 'submission2',\n",
    "    'submission1.csv': 'submission1',\n",
    "}\n",
    "\n",
    "# Initialize empty DataFrame for merged data\n",
    "merged_df = pd.DataFrame()\n",
    "\n",
    "for filename, model_name in files_and_names.items():\n",
    "    df = pd.read_csv(filename)\n",
    "    \n",
    "    # Normalize 'Transported' column to boolean if not already\n",
    "    # If already bool or 0/1, this will work fine:\n",
    "    df['Transported'] = df['Transported'].astype(bool)\n",
    "    \n",
    "    # Rename the Transported column to the model name\n",
    "    df = df.rename(columns={'Transported': model_name})\n",
    "    \n",
    "    if merged_df.empty:\n",
    "        merged_df = df.set_index('PassengerId')\n",
    "    else:\n",
    "        merged_df = merged_df.join(df.set_index('PassengerId'), how='outer')\n",
    "\n",
    "# merged_df now has one column per model with boolean predictions indexed by PassengerId\n",
    "print(merged_df.head())\n",
    "\n",
    "\n"
   ]
  },
  {
   "cell_type": "code",
   "execution_count": 4,
   "metadata": {},
   "outputs": [
    {
     "name": "stdout",
     "output_type": "stream",
     "text": [
      "Number of passengers with full agreement across all models: 3882\n",
      "Number of passengers with full agreement percentage: 0.908\n"
     ]
    }
   ],
   "source": [
    "# Check if all predictions in each row are equal\n",
    "all_agree = merged_df.nunique(axis=1) == 1  # True if only 1 unique value in the row\n",
    "\n",
    "# Count how many rows have complete agreement\n",
    "num_all_agree = all_agree.sum()\n",
    "avg = num_all_agree/len(merged_df)\n",
    "\n",
    "print(f\"Number of passengers with full agreement across all models: {num_all_agree}\")\n",
    "print(f\"Number of passengers with full agreement percentage: {avg:.3f}\")\n"
   ]
  }
 ],
 "metadata": {
  "kernelspec": {
   "display_name": "base",
   "language": "python",
   "name": "python3"
  },
  "language_info": {
   "codemirror_mode": {
    "name": "ipython",
    "version": 3
   },
   "file_extension": ".py",
   "mimetype": "text/x-python",
   "name": "python",
   "nbconvert_exporter": "python",
   "pygments_lexer": "ipython3",
   "version": "3.11.5"
  }
 },
 "nbformat": 4,
 "nbformat_minor": 2
}
