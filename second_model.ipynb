{
 "cells": [
  {
   "cell_type": "code",
   "execution_count": 257,
   "metadata": {},
   "outputs": [],
   "source": [
    "import matplotlib.pyplot as plt\n",
    "import numpy as np\n",
    "import pandas as pd\n",
    "from sklearn.preprocessing import StandardScaler\n",
    "from sklearn.ensemble import GradientBoostingRegressor\n",
    "from sklearn.model_selection import train_test_split\n",
    "from sklearn.compose import ColumnTransformer\n",
    "from sklearn.decomposition import PCA\n",
    "from sklearn.metrics import mean_squared_error, r2_score\n",
    "from sklearn.experimental import enable_iterative_imputer\n",
    "from sklearn.impute import IterativeImputer\n",
    "from sklearn.metrics import accuracy_score, precision_score, recall_score, f1_score, confusion_matrix\n",
    "from sklearn.neural_network import MLPClassifier\n",
    "from xgboost import XGBClassifier\n",
    "from sklearn.ensemble import GradientBoostingClassifier, HistGradientBoostingClassifier, RandomForestClassifier\n",
    "from sklearn.model_selection import GridSearchCV, StratifiedKFold\n",
    "from catboost import CatBoostClassifier\n",
    "from sklearn.ensemble import StackingClassifier\n",
    "from sklearn.linear_model import LogisticRegression\n",
    "import joblib\n",
    "from sklearn.impute import SimpleImputer\n",
    "from sklearn.preprocessing import OneHotEncoder\n",
    "from sklearn.pipeline import Pipeline\n",
    "from sklearn.impute import KNNImputer\n",
    "\n",
    "\n",
    "\n",
    "train_df = pd.read_csv('train.csv')"
   ]
  },
  {
   "cell_type": "code",
   "execution_count": 5,
   "metadata": {},
   "outputs": [],
   "source": [
    "def filter_data(data, train = True, preprocessor=None):\n",
    "    training_data = data.copy()\n",
    "    training_data['NameLength'] = training_data['Name'].str.len()\n",
    "    training_data[['Deck', 'Num', 'Side']] = training_data['Cabin'].str.split('/', expand=True)\n",
    "    training_data = training_data.drop(columns=['PassengerId', 'Name', 'Cabin'])\n",
    "\n",
    "    target = None\n",
    "    if train:\n",
    "        target = training_data['Transported']\n",
    "        training_data = training_data.drop(columns=['Transported'])\n",
    "\n",
    "    features  = training_data.columns.tolist()\n",
    "    categorical_features = ['HomePlanet', 'Destination', 'Side', 'Deck']\n",
    "    numeric_features = [col for col in features if col not in categorical_features]\n",
    "\n",
    "    for col in ['CryoSleep', 'VIP']:\n",
    "        training_data[col] = training_data[col].fillna(False).astype(int)\n",
    "\n",
    "    training_data['Num'] = pd.to_numeric(training_data['Num'], errors='coerce')\n",
    "\n",
    "\n",
    "\n",
    "    if preprocessor is None:\n",
    "        numeric_transformer = Pipeline([\n",
    "            ('imputer', SimpleImputer(strategy='median')),\n",
    "            ('scaler', StandardScaler())\n",
    "        ])\n",
    "\n",
    "        categorical_transformer = Pipeline([\n",
    "            ('imputer', SimpleImputer(strategy='most_frequent')),\n",
    "            ('onehot', OneHotEncoder(handle_unknown='ignore'))\n",
    "        ])\n",
    "\n",
    "        preprocessor = ColumnTransformer([\n",
    "            ('num', numeric_transformer, numeric_features),\n",
    "            ('cat', categorical_transformer, categorical_features)\n",
    "        ])\n",
    "\n",
    "        X_processed = preprocessor.fit_transform(training_data)\n",
    "\n",
    "    else:\n",
    "        # Use passed preprocessor to transform (inference mode)\n",
    "        X_processed = preprocessor.transform(training_data)\n",
    "\n",
    "    if train:\n",
    "        return X_processed, target, preprocessor\n",
    "    else:\n",
    "        return X_processed"
   ]
  },
  {
   "cell_type": "code",
   "execution_count": null,
   "metadata": {},
   "outputs": [],
   "source": [
    "def filter_data2(data, train = True, preprocessor=None):\n",
    "    training_data = data.copy()\n",
    "    training_data['NameLength'] = training_data['Name'].str.len()\n",
    "    training_data[['Deck', 'Num', 'Side']] = training_data['Cabin'].str.split('/', expand=True)\n",
    "#RoomService,FoodCourt,ShoppingMall,Spa,VRDeck\n",
    "    training_data['total spending'] = training_data[['RoomService', 'FoodCourt', 'ShoppingMall', 'Spa', 'VRDeck']].mean(axis=1)\n",
    "    spending_categories = ['RoomService', 'FoodCourt', 'ShoppingMall', 'Spa', 'VRDeck']\n",
    "    for col in spending_categories:\n",
    "        training_data[col] = (training_data[col]/training_data['total spending']).fillna(0)\n",
    "\n",
    "    training_data['Num'] = training_data['Num'].astype(str).str.strip()\n",
    "\n",
    "    training_data = training_data.drop(columns=['PassengerId', 'Name', 'Cabin'])\n",
    "\n",
    "    target = None\n",
    "    if train:\n",
    "        target = training_data['Transported']\n",
    "        training_data = training_data.drop(columns=['Transported'])\n",
    "\n",
    "    features  = training_data.columns.tolist()\n",
    "\n",
    "    categorical_features = ['HomePlanet', 'Destination', 'Side', 'Deck', 'Num']\n",
    "    numeric_features = [col for col in features if col not in categorical_features]\n",
    "    for col in ['CryoSleep', 'VIP']:\n",
    "        training_data[col] = training_data[col].fillna(False).astype(int)\n",
    "\n",
    "\n",
    "    if preprocessor is None:\n",
    "        numeric_transformer = Pipeline([\n",
    "            ('imputer', SimpleImputer(strategy='median')),\n",
    "            ('scaler', StandardScaler())\n",
    "        ])\n",
    "\n",
    "        categorical_transformer = Pipeline([\n",
    "            ('imputer', SimpleImputer(strategy='most_frequent')),\n",
    "            ('onehot', OneHotEncoder(handle_unknown='ignore'))\n",
    "        ])\n",
    "\n",
    "        preprocessor = ColumnTransformer([\n",
    "            ('num', numeric_transformer, numeric_features),\n",
    "            ('cat', categorical_transformer, categorical_features)\n",
    "        ])\n",
    "\n",
    "        X_processed = preprocessor.fit_transform(training_data)\n",
    "\n",
    "    else:\n",
    "        # Use passed preprocessor to transform (inference mode)\n",
    "        X_processed = preprocessor.transform(training_data)\n",
    "\n",
    "    if train:\n",
    "        return X_processed, target, preprocessor,num_bins_edges\n",
    "    else:\n",
    "        return X_processed"
   ]
  },
  {
   "cell_type": "code",
   "execution_count": 262,
   "metadata": {},
   "outputs": [],
   "source": [
    "def filter_data3(data, train = True, preprocessor=None,num_bins_edges=None):\n",
    "    training_data = data.copy()\n",
    "    training_data['NameLength'] = training_data['Name'].str.len()\n",
    "    training_data[['Deck', 'Num', 'Side']] = training_data['Cabin'].str.split('/', expand=True)\n",
    "#RoomService,FoodCourt,ShoppingMall,Spa,VRDeck\n",
    "    training_data['total spending'] = training_data[['RoomService', 'FoodCourt', 'ShoppingMall', 'Spa', 'VRDeck']].sum(axis=1)\n",
    "    maxspending = training_data['total spending'].max()\n",
    "    #training_data['portional_spend'] = training_data['total spending'] / maxspending\n",
    "    spending_categories = ['RoomService', 'FoodCourt', 'ShoppingMall', 'Spa', 'VRDeck']\n",
    "    for col in spending_categories:\n",
    "        training_data[col] = (training_data[col]/training_data['total spending']).fillna(0)\n",
    "\n",
    "    training_data['Num'] = training_data['Num'].astype(str).str.strip()\n",
    "    training_data['Num'] = pd.to_numeric(training_data['Num'], errors='coerce')\n",
    "    if train:\n",
    "        # Fit bins on training data\n",
    "        num_bins_edges = pd.qcut(training_data['Num'], q=7, retbins=True, duplicates='drop')[1]\n",
    "        training_data['NumBin'] = pd.cut(training_data['Num'], bins=num_bins_edges, include_lowest=True).astype(str)\n",
    "    else:\n",
    "        # Use passed bin edges to assign bins on test data\n",
    "        training_data['NumBin'] = pd.cut(training_data['Num'], bins=num_bins_edges, include_lowest=True).astype(str)\n",
    "\n",
    "    home_planet_map = {'Earth': 0, 'Europa': 1, 'Mars': 2}\n",
    "    destination_map = {'TRAPPIST-1e': 0, '55 Cancri e': 1, 'PSO J318.5-22': 2}\n",
    "\n",
    "    training_data['HomePlanet'] = training_data['HomePlanet'].map(home_planet_map)\n",
    "    training_data['Destination'] = training_data['Destination'].map(destination_map)\n",
    "\n",
    "    training_data['sqrt_spend'] = np.sqrt(training_data['total spending'])\n",
    "\n",
    "    training_data = training_data.drop(columns=['PassengerId', 'Name', 'Cabin', 'Num', 'VIP'])\n",
    "\n",
    "    target = None\n",
    "    if train:\n",
    "        target = training_data['Transported']\n",
    "        training_data = training_data.drop(columns=['Transported'])\n",
    "\n",
    "    training_data['combination'] = training_data['Deck'] + training_data['Side']+training_data['NumBin']\n",
    "\n",
    "\n",
    "    categorical_features = ['Side', 'Deck', 'NumBin', 'combination']\n",
    "    features  = training_data.columns.tolist()\n",
    "\n",
    "    for col in training_data.columns:\n",
    "        if training_data[col].dtype == bool:\n",
    "            training_data[col] = training_data[col].astype(int)\n",
    "\n",
    "    numeric_features = [col for col in features if col not in categorical_features]\n",
    "    for col in ['CryoSleep']:\n",
    "        training_data[col] = training_data[col].fillna(False).astype(int)\n",
    "\n",
    "\n",
    "\n",
    "\n",
    "    categorical_features = ['combination']\n",
    "    training_data = training_data.drop(columns=['Side', 'Deck', 'NumBin'])\n",
    "\n",
    "    for col in numeric_features:\n",
    "        Q1 = training_data[col].quantile(0.25)\n",
    "        Q3 = training_data[col].quantile(0.75)\n",
    "        IQR = Q3 - Q1\n",
    "        lower_bound = Q1 - 1.5 * IQR\n",
    "        upper_bound = Q3 + 1.5 * IQR\n",
    "        training_data[col] = training_data[col].clip(lower=lower_bound, upper=upper_bound)\n",
    "\n",
    "\n",
    "\n",
    "    if preprocessor is None:\n",
    "        numeric_transformer = Pipeline([\n",
    "            ('imputer', SimpleImputer(strategy='median')),\n",
    "            #('scaler', StandardScaler())\n",
    "        ])\n",
    "\n",
    "        categorical_transformer = Pipeline([\n",
    "            ('imputer', SimpleImputer(strategy='most_frequent')),\n",
    "            ('onehot', OneHotEncoder(handle_unknown='ignore'))\n",
    "        ])\n",
    "\n",
    "        preprocessor = ColumnTransformer([\n",
    "            ('num', numeric_transformer, numeric_features),\n",
    "            ('cat', categorical_transformer, categorical_features)\n",
    "        ])\n",
    "\n",
    "        X_processed = preprocessor.fit_transform(training_data)\n",
    "\n",
    "    else:\n",
    "        # Use passed preprocessor to transform (inference mode)\n",
    "        X_processed = preprocessor.transform(training_data)\n",
    "\n",
    "    if train:\n",
    "        return X_processed, target, preprocessor, num_bins_edges\n",
    "    else:\n",
    "        return X_processed"
   ]
  },
  {
   "cell_type": "code",
   "execution_count": 224,
   "metadata": {},
   "outputs": [],
   "source": [
    "def test_values(y_pred, y_test):\n",
    "    y_pred = np.array(y_pred)\n",
    "\n",
    "    # ✅ If shape is (n_samples, 1), flatten it to (n_samples,)\n",
    "    if y_pred.ndim > 1:\n",
    "        y_pred = y_pred.ravel()\n",
    "\n",
    "    # ✅ Only threshold if values are probabilities (i.e. float)\n",
    "    if y_pred.dtype != int and y_pred.dtype != np.int64:\n",
    "        y_pred = (y_pred >= 0.5).astype(int)\n",
    "\n",
    "    np_y_test = np.array(y_test)\n",
    "    print(np.unique(np_y_test), np_y_test.dtype)\n",
    "    print(np.unique(y_pred), y_pred.dtype)\n",
    "\n",
    "\n",
    "    acc = accuracy_score(np_y_test, y_pred)\n",
    "    prec = precision_score(np_y_test, y_pred)\n",
    "    rec = recall_score(np_y_test, y_pred)\n",
    "    f1 = f1_score(np_y_test, y_pred)\n",
    "\n",
    "    print(f\"\\nAccuracy: {acc:.4f}\")\n",
    "    print(f\"Precision: {prec:.4f}\")\n",
    "    print(f\"Recall: {rec:.4f}\")\n",
    "    print(f\"F1 Score: {f1:.4f}\")\n",
    "    print(\"Confusion Matrix:\\n\", confusion_matrix(np_y_test, y_pred))"
   ]
  },
  {
   "cell_type": "code",
   "execution_count": null,
   "metadata": {},
   "outputs": [
    {
     "name": "stdout",
     "output_type": "stream",
     "text": [
      "[False  True] bool\n",
      "[0 1] int64\n",
      "\n",
      "Accuracy: 0.8000\n",
      "Precision: 0.8041\n",
      "Recall: 0.7968\n",
      "F1 Score: 0.8005\n",
      "Confusion Matrix:\n",
      " [[347  85]\n",
      " [ 89 349]]\n"
     ]
    },
    {
     "data": {
      "text/plain": [
       "['preprocessor.joblib']"
      ]
     },
     "execution_count": 250,
     "metadata": {},
     "output_type": "execute_result"
    }
   ],
   "source": [
    "train_df, target, preprocessor, num_bins_edges  = filter_data3(train_df, train=True)\n",
    "#joblib.dump(preprocessor, 'preprocessor.joblib')\n",
    "X_train, X_test, y_train, y_test = train_test_split(train_df, target, stratify=target, test_size=0.1, random_state=42, shuffle=True)\n",
    "model = GradientBoostingClassifier(n_estimators=400, learning_rate=0.1, max_depth=5, min_samples_split=3,\n",
    "        min_samples_leaf=2, subsample=0.8, max_features='sqrt', random_state=42)\n",
    "model.fit(X_train, y_train)\n",
    "y_pred = model.predict(X_test)\n",
    "test_values(y_pred, y_test)\n",
    "joblib.dump(model, 'gradient_boost_model.joblib')\n",
    "joblib.dump(preprocessor, 'preprocessor.joblib')"
   ]
  },
  {
   "cell_type": "code",
   "execution_count": 251,
   "metadata": {},
   "outputs": [
    {
     "name": "stdout",
     "output_type": "stream",
     "text": [
      "XGBoost accuracy: 0.7919540229885057\n"
     ]
    }
   ],
   "source": [
    "import xgboost as xgb\n",
    "model = xgb.XGBClassifier()\n",
    "model.fit(X_train, y_train)\n",
    "print(\"XGBoost accuracy:\", model.score(X_test, y_test))\n"
   ]
  },
  {
   "cell_type": "code",
   "execution_count": 244,
   "metadata": {},
   "outputs": [
    {
     "name": "stderr",
     "output_type": "stream",
     "text": [
      "[I 2025-08-05 19:38:53,645] A new study created in memory with name: no-name-81ce05c7-a204-472b-b488-277cb992c0a6\n",
      "[I 2025-08-05 19:38:56,060] Trial 0 finished with value: 0.8005901146401053 and parameters: {'max_depth': 10, 'learning_rate': 0.04305229705813489, 'n_estimators': 147, 'subsample': 0.6573494162255232, 'colsample_bytree': 0.6690621470463747, 'min_child_weight': 8}. Best is trial 0 with value: 0.8005901146401053.\n",
      "[I 2025-08-05 19:38:57,953] Trial 1 finished with value: 0.799950810161542 and parameters: {'max_depth': 5, 'learning_rate': 0.09502887692867652, 'n_estimators': 227, 'subsample': 0.9985198367479627, 'colsample_bytree': 0.7386173057457458, 'min_child_weight': 2}. Best is trial 0 with value: 0.8005901146401053.\n",
      "[I 2025-08-05 19:38:59,842] Trial 2 finished with value: 0.8003335430574507 and parameters: {'max_depth': 5, 'learning_rate': 0.012494767020455171, 'n_estimators': 147, 'subsample': 0.9015306411124723, 'colsample_bytree': 0.8741027994776469, 'min_child_weight': 4}. Best is trial 0 with value: 0.8005901146401053.\n",
      "[I 2025-08-05 19:39:02,713] Trial 3 finished with value: 0.7901087569351952 and parameters: {'max_depth': 5, 'learning_rate': 0.1511953348951897, 'n_estimators': 299, 'subsample': 0.5563620836865335, 'colsample_bytree': 0.7231565279523432, 'min_child_weight': 7}. Best is trial 0 with value: 0.8005901146401053.\n",
      "[I 2025-08-05 19:39:03,622] Trial 4 finished with value: 0.7994393829208306 and parameters: {'max_depth': 7, 'learning_rate': 0.1219061106646278, 'n_estimators': 69, 'subsample': 0.6961055705110843, 'colsample_bytree': 0.9549511976128975, 'min_child_weight': 1}. Best is trial 0 with value: 0.8005901146401053.\n",
      "[I 2025-08-05 19:39:07,251] Trial 5 finished with value: 0.7887022707402171 and parameters: {'max_depth': 8, 'learning_rate': 0.12575259976222894, 'n_estimators': 238, 'subsample': 0.9337198319447202, 'colsample_bytree': 0.9369659787641713, 'min_child_weight': 10}. Best is trial 0 with value: 0.8005901146401053.\n",
      "[I 2025-08-05 19:39:09,229] Trial 6 finished with value: 0.8012290922758879 and parameters: {'max_depth': 6, 'learning_rate': 0.014749518220629124, 'n_estimators': 167, 'subsample': 0.6977625333152044, 'colsample_bytree': 0.5255534733806889, 'min_child_weight': 4}. Best is trial 6 with value: 0.8012290922758879.\n",
      "[I 2025-08-05 19:39:12,315] Trial 7 finished with value: 0.7935603801181537 and parameters: {'max_depth': 10, 'learning_rate': 0.13233919219128643, 'n_estimators': 175, 'subsample': 0.954222805697488, 'colsample_bytree': 0.5679966284783173, 'min_child_weight': 2}. Best is trial 6 with value: 0.8012290922758879.\n",
      "[I 2025-08-05 19:39:15,010] Trial 8 finished with value: 0.7993117508150642 and parameters: {'max_depth': 6, 'learning_rate': 0.05269572710900808, 'n_estimators': 269, 'subsample': 0.7909339417247409, 'colsample_bytree': 0.7202012652268385, 'min_child_weight': 8}. Best is trial 6 with value: 0.8012290922758879.\n",
      "[I 2025-08-05 19:39:16,231] Trial 9 finished with value: 0.8009738280643554 and parameters: {'max_depth': 9, 'learning_rate': 0.06073911070175613, 'n_estimators': 84, 'subsample': 0.6098216364885469, 'colsample_bytree': 0.695998937367009, 'min_child_weight': 5}. Best is trial 6 with value: 0.8012290922758879.\n",
      "[I 2025-08-05 19:39:17,102] Trial 10 finished with value: 0.783206000833449 and parameters: {'max_depth': 3, 'learning_rate': 0.013161219793381598, 'n_estimators': 116, 'subsample': 0.8127113300706036, 'colsample_bytree': 0.5015885670201811, 'min_child_weight': 4}. Best is trial 6 with value: 0.8012290922758879.\n",
      "[I 2025-08-05 19:39:17,960] Trial 11 finished with value: 0.8009744000392212 and parameters: {'max_depth': 8, 'learning_rate': 0.02418156989766514, 'n_estimators': 59, 'subsample': 0.5671976733678127, 'colsample_bytree': 0.6027188148852287, 'min_child_weight': 5}. Best is trial 6 with value: 0.8012290922758879.\n",
      "[I 2025-08-05 19:39:18,584] Trial 12 finished with value: 0.7973944093542403 and parameters: {'max_depth': 7, 'learning_rate': 0.024581893199580585, 'n_estimators': 52, 'subsample': 0.5432004476395491, 'colsample_bytree': 0.5943673495456498, 'min_child_weight': 6}. Best is trial 6 with value: 0.8012290922758879.\n",
      "[I 2025-08-05 19:39:21,868] Trial 13 finished with value: 0.8028915780786547 and parameters: {'max_depth': 8, 'learning_rate': 0.02303222334665166, 'n_estimators': 198, 'subsample': 0.7294501785319653, 'colsample_bytree': 0.5004818157613251, 'min_child_weight': 4}. Best is trial 13 with value: 0.8028915780786547.\n",
      "[I 2025-08-05 19:39:22,974] Trial 14 finished with value: 0.7972666138270839 and parameters: {'max_depth': 3, 'learning_rate': 0.2767553876853931, 'n_estimators': 194, 'subsample': 0.7382080744690479, 'colsample_bytree': 0.5183639143756537, 'min_child_weight': 3}. Best is trial 13 with value: 0.8028915780786547.\n",
      "[I 2025-08-05 19:39:25,799] Trial 15 finished with value: 0.807492625609766 and parameters: {'max_depth': 6, 'learning_rate': 0.02151991253830653, 'n_estimators': 216, 'subsample': 0.8392030637899004, 'colsample_bytree': 0.8219128895204542, 'min_child_weight': 3}. Best is trial 15 with value: 0.807492625609766.\n",
      "[I 2025-08-05 19:39:30,254] Trial 16 finished with value: 0.8028911695251791 and parameters: {'max_depth': 8, 'learning_rate': 0.024267518012460125, 'n_estimators': 218, 'subsample': 0.8271091398519085, 'colsample_bytree': 0.8280576234690562, 'min_child_weight': 1}. Best is trial 15 with value: 0.807492625609766.\n",
      "[I 2025-08-05 19:39:32,246] Trial 17 finished with value: 0.8037853296617994 and parameters: {'max_depth': 4, 'learning_rate': 0.03660585888439841, 'n_estimators': 261, 'subsample': 0.8898130056906832, 'colsample_bytree': 0.8141575315193317, 'min_child_weight': 3}. Best is trial 15 with value: 0.807492625609766.\n",
      "[I 2025-08-05 19:39:34,033] Trial 18 finished with value: 0.8036573707132527 and parameters: {'max_depth': 4, 'learning_rate': 0.036502026295579415, 'n_estimators': 259, 'subsample': 0.873407480995046, 'colsample_bytree': 0.8216698673566918, 'min_child_weight': 2}. Best is trial 15 with value: 0.807492625609766.\n",
      "[I 2025-08-05 19:39:36,284] Trial 19 finished with value: 0.8023804776807235 and parameters: {'max_depth': 4, 'learning_rate': 0.01757154573245755, 'n_estimators': 288, 'subsample': 0.8598188290328419, 'colsample_bytree': 0.8039998063580833, 'min_child_weight': 3}. Best is trial 15 with value: 0.807492625609766.\n",
      "[I 2025-08-05 19:39:38,000] Trial 20 finished with value: 0.8028907609717036 and parameters: {'max_depth': 4, 'learning_rate': 0.03752524713130138, 'n_estimators': 255, 'subsample': 0.7823349653790653, 'colsample_bytree': 0.8835514869603066, 'min_child_weight': 6}. Best is trial 15 with value: 0.807492625609766.\n",
      "[I 2025-08-05 19:39:40,042] Trial 21 finished with value: 0.8051917341460824 and parameters: {'max_depth': 4, 'learning_rate': 0.037211472234691303, 'n_estimators': 270, 'subsample': 0.8957344429028256, 'colsample_bytree': 0.7902874439326496, 'min_child_weight': 2}. Best is trial 15 with value: 0.807492625609766.\n",
      "[I 2025-08-05 19:39:42,111] Trial 22 finished with value: 0.8017392121454776 and parameters: {'max_depth': 3, 'learning_rate': 0.07355254363343591, 'n_estimators': 282, 'subsample': 0.9153705493285953, 'colsample_bytree': 0.7852626550716334, 'min_child_weight': 3}. Best is trial 15 with value: 0.807492625609766.\n",
      "[I 2025-08-05 19:39:43,960] Trial 23 finished with value: 0.8031467605794923 and parameters: {'max_depth': 4, 'learning_rate': 0.0319985928690458, 'n_estimators': 242, 'subsample': 0.8477953888572677, 'colsample_bytree': 0.8865489047251858, 'min_child_weight': 1}. Best is trial 15 with value: 0.807492625609766.\n",
      "[I 2025-08-05 19:39:46,022] Trial 24 finished with value: 0.8037851662404092 and parameters: {'max_depth': 5, 'learning_rate': 0.04862991593920169, 'n_estimators': 207, 'subsample': 0.9828378844322321, 'colsample_bytree': 0.7775213683191897, 'min_child_weight': 2}. Best is trial 15 with value: 0.807492625609766.\n",
      "[I 2025-08-05 19:39:49,487] Trial 25 finished with value: 0.8046807154588465 and parameters: {'max_depth': 6, 'learning_rate': 0.017743366924150968, 'n_estimators': 275, 'subsample': 0.8786327911925187, 'colsample_bytree': 0.9985646882437379, 'min_child_weight': 3}. Best is trial 15 with value: 0.807492625609766.\n",
      "[I 2025-08-05 19:39:53,106] Trial 26 finished with value: 0.8035300654502668 and parameters: {'max_depth': 6, 'learning_rate': 0.010521678112643281, 'n_estimators': 278, 'subsample': 0.5001704460589695, 'colsample_bytree': 0.9863170820052413, 'min_child_weight': 2}. Best is trial 15 with value: 0.807492625609766.\n",
      "[I 2025-08-05 19:39:56,809] Trial 27 finished with value: 0.8018688053079268 and parameters: {'max_depth': 7, 'learning_rate': 0.018242468021521668, 'n_estimators': 242, 'subsample': 0.7710098806885717, 'colsample_bytree': 0.9169372469690287, 'min_child_weight': 5}. Best is trial 15 with value: 0.807492625609766.\n",
      "[I 2025-08-05 19:39:59,729] Trial 28 finished with value: 0.8045527565102997 and parameters: {'max_depth': 6, 'learning_rate': 0.018191825532025325, 'n_estimators': 222, 'subsample': 0.9402942668584015, 'colsample_bytree': 0.9879184514109134, 'min_child_weight': 3}. Best is trial 15 with value: 0.807492625609766.\n",
      "[I 2025-08-05 19:40:02,345] Trial 29 finished with value: 0.8027624751803764 and parameters: {'max_depth': 5, 'learning_rate': 0.031723784408642416, 'n_estimators': 291, 'subsample': 0.8212473534204662, 'colsample_bytree': 0.6560886529774881, 'min_child_weight': 10}. Best is trial 15 with value: 0.807492625609766.\n",
      "[I 2025-08-05 19:40:05,844] Trial 30 finished with value: 0.8026356601815611 and parameters: {'max_depth': 7, 'learning_rate': 0.02799295358534244, 'n_estimators': 181, 'subsample': 0.9624943751375106, 'colsample_bytree': 0.8587352882759801, 'min_child_weight': 1}. Best is trial 15 with value: 0.807492625609766.\n",
      "[I 2025-08-05 19:40:08,853] Trial 31 finished with value: 0.8059582621769362 and parameters: {'max_depth': 6, 'learning_rate': 0.019894947700572714, 'n_estimators': 223, 'subsample': 0.935534141979322, 'colsample_bytree': 0.9937085188872314, 'min_child_weight': 3}. Best is trial 15 with value: 0.807492625609766.\n",
      "[I 2025-08-05 19:40:11,330] Trial 32 finished with value: 0.8040411658481978 and parameters: {'max_depth': 6, 'learning_rate': 0.019671314269819832, 'n_estimators': 234, 'subsample': 0.9120054661525457, 'colsample_bytree': 0.9991298888976647, 'min_child_weight': 4}. Best is trial 15 with value: 0.807492625609766.\n",
      "[I 2025-08-05 19:40:14,496] Trial 33 finished with value: 0.8013559889853983 and parameters: {'max_depth': 5, 'learning_rate': 0.010245789269718277, 'n_estimators': 212, 'subsample': 0.8718576332767501, 'colsample_bytree': 0.955467361354052, 'min_child_weight': 3}. Best is trial 15 with value: 0.807492625609766.\n",
      "[I 2025-08-05 19:40:17,653] Trial 34 finished with value: 0.8037859833473604 and parameters: {'max_depth': 6, 'learning_rate': 0.01433830747488325, 'n_estimators': 255, 'subsample': 0.8449779144859496, 'colsample_bytree': 0.9243387722384915, 'min_child_weight': 2}. Best is trial 15 with value: 0.807492625609766.\n",
      "[I 2025-08-05 19:40:19,045] Trial 35 finished with value: 0.8037854930831898 and parameters: {'max_depth': 5, 'learning_rate': 0.04340291840703571, 'n_estimators': 154, 'subsample': 0.996455078211195, 'colsample_bytree': 0.7500509281274423, 'min_child_weight': 2}. Best is trial 15 with value: 0.807492625609766.\n",
      "[I 2025-08-05 19:40:23,285] Trial 36 finished with value: 0.8025077012330144 and parameters: {'max_depth': 7, 'learning_rate': 0.0161023048291606, 'n_estimators': 272, 'subsample': 0.8962073539312192, 'colsample_bytree': 0.968590063690693, 'min_child_weight': 1}. Best is trial 15 with value: 0.807492625609766.\n",
      "[I 2025-08-05 19:40:25,734] Trial 37 finished with value: 0.8037847576869336 and parameters: {'max_depth': 5, 'learning_rate': 0.021774310180009422, 'n_estimators': 300, 'subsample': 0.9308893399887102, 'colsample_bytree': 0.8562968546318088, 'min_child_weight': 4}. Best is trial 15 with value: 0.807492625609766.\n",
      "[I 2025-08-05 19:40:28,095] Trial 38 finished with value: 0.8012293374079734 and parameters: {'max_depth': 6, 'learning_rate': 0.01162831816132962, 'n_estimators': 230, 'subsample': 0.963039471419289, 'colsample_bytree': 0.8998135252318098, 'min_child_weight': 9}. Best is trial 15 with value: 0.807492625609766.\n",
      "[I 2025-08-05 19:40:31,390] Trial 39 finished with value: 0.7981609373850943 and parameters: {'max_depth': 9, 'learning_rate': 0.06960782755802097, 'n_estimators': 189, 'subsample': 0.8857054035310103, 'colsample_bytree': 0.6665454631485587, 'min_child_weight': 7}. Best is trial 15 with value: 0.807492625609766.\n",
      "[I 2025-08-05 19:40:33,662] Trial 40 finished with value: 0.8054470800683102 and parameters: {'max_depth': 5, 'learning_rate': 0.028837672519134598, 'n_estimators': 247, 'subsample': 0.8033941800383243, 'colsample_bytree': 0.9435481866343977, 'min_child_weight': 3}. Best is trial 15 with value: 0.807492625609766.\n",
      "[I 2025-08-05 19:40:36,630] Trial 41 finished with value: 0.8039132068996511 and parameters: {'max_depth': 5, 'learning_rate': 0.0280993210142263, 'n_estimators': 248, 'subsample': 0.8083051481025679, 'colsample_bytree': 0.9488352417028563, 'min_child_weight': 3}. Best is trial 15 with value: 0.807492625609766.\n",
      "[I 2025-08-05 19:40:39,888] Trial 42 finished with value: 0.8065983837624507 and parameters: {'max_depth': 6, 'learning_rate': 0.028420218134523875, 'n_estimators': 267, 'subsample': 0.7613170509082778, 'colsample_bytree': 0.9639622337862596, 'min_child_weight': 4}. Best is trial 15 with value: 0.807492625609766.\n",
      "[I 2025-08-05 19:40:42,666] Trial 43 finished with value: 0.8072366260019773 and parameters: {'max_depth': 5, 'learning_rate': 0.03037517671635693, 'n_estimators': 232, 'subsample': 0.6944521009948905, 'colsample_bytree': 0.9120799406509992, 'min_child_weight': 4}. Best is trial 15 with value: 0.807492625609766.\n",
      "[I 2025-08-05 19:40:46,215] Trial 44 finished with value: 0.7971384914571468 and parameters: {'max_depth': 7, 'learning_rate': 0.044986176777518955, 'n_estimators': 226, 'subsample': 0.6777656175410736, 'colsample_bytree': 0.9215210677705612, 'min_child_weight': 4}. Best is trial 15 with value: 0.807492625609766.\n",
      "[I 2025-08-05 19:40:49,195] Trial 45 finished with value: 0.8045533284851654 and parameters: {'max_depth': 6, 'learning_rate': 0.02902836460327944, 'n_estimators': 204, 'subsample': 0.6392859150820657, 'colsample_bytree': 0.9736927533840142, 'min_child_weight': 5}. Best is trial 15 with value: 0.807492625609766.\n",
      "[I 2025-08-05 19:40:50,797] Trial 46 finished with value: 0.8032748829494292 and parameters: {'max_depth': 5, 'learning_rate': 0.021051333267102457, 'n_estimators': 162, 'subsample': 0.7128577935418473, 'colsample_bytree': 0.843778806936154, 'min_child_weight': 4}. Best is trial 15 with value: 0.807492625609766.\n",
      "[I 2025-08-05 19:40:53,575] Trial 47 finished with value: 0.801613459385699 and parameters: {'max_depth': 6, 'learning_rate': 0.014327718317315259, 'n_estimators': 212, 'subsample': 0.7677534308511081, 'colsample_bytree': 0.9370072979880318, 'min_child_weight': 5}. Best is trial 15 with value: 0.807492625609766.\n",
      "[I 2025-08-05 19:40:57,293] Trial 48 finished with value: 0.8021241512301545 and parameters: {'max_depth': 7, 'learning_rate': 0.025126778796888277, 'n_estimators': 248, 'subsample': 0.7575681502930448, 'colsample_bytree': 0.906880371075427, 'min_child_weight': 6}. Best is trial 15 with value: 0.807492625609766.\n",
      "[I 2025-08-05 19:40:59,104] Trial 49 finished with value: 0.8042967569025109 and parameters: {'max_depth': 5, 'learning_rate': 0.030149786907904454, 'n_estimators': 121, 'subsample': 0.6470683197188515, 'colsample_bytree': 0.9601852580691184, 'min_child_weight': 4}. Best is trial 15 with value: 0.807492625609766.\n"
     ]
    },
    {
     "name": "stdout",
     "output_type": "stream",
     "text": [
      "{'max_depth': 6, 'learning_rate': 0.02151991253830653, 'n_estimators': 216, 'subsample': 0.8392030637899004, 'colsample_bytree': 0.8219128895204542, 'min_child_weight': 3}\n"
     ]
    }
   ],
   "source": [
    "import optuna\n",
    "from sklearn.model_selection import cross_val_score\n",
    "\n",
    "def objective(trial):\n",
    "    params = {\n",
    "        'max_depth': trial.suggest_int('max_depth', 3, 10),\n",
    "        'learning_rate': trial.suggest_float('learning_rate', 0.01, 0.3, log=True),\n",
    "        'n_estimators': trial.suggest_int('n_estimators', 50, 300),\n",
    "        'subsample': trial.suggest_float('subsample', 0.5, 1.0),\n",
    "        'colsample_bytree': trial.suggest_float('colsample_bytree', 0.5, 1.0),\n",
    "        'min_child_weight': trial.suggest_int('min_child_weight', 1, 10),\n",
    "    }\n",
    "    model = XGBClassifier(**params, eval_metric='logloss')\n",
    "    score = cross_val_score(model, X_train, y_train, cv=5, scoring='accuracy').mean()\n",
    "    return score\n",
    "\n",
    "study = optuna.create_study(direction='maximize')\n",
    "study.optimize(objective, n_trials=50)\n",
    "print(study.best_params)\n"
   ]
  },
  {
   "cell_type": "code",
   "execution_count": 266,
   "metadata": {},
   "outputs": [
    {
     "name": "stdout",
     "output_type": "stream",
     "text": [
      "[False  True] bool\n",
      "[0 1] int64\n",
      "\n",
      "Accuracy: 0.8000\n",
      "Precision: 0.7960\n",
      "Recall: 0.8105\n",
      "F1 Score: 0.8032\n",
      "Confusion Matrix:\n",
      " [[341  91]\n",
      " [ 83 355]]\n"
     ]
    }
   ],
   "source": [
    "best_XGB = XGBClassifier(\n",
    "    max_depth=6,\n",
    "    learning_rate=0.02151991253830653,\n",
    "    n_estimators=216,\n",
    "    subsample=0.8392030637899004,\n",
    "    colsample_bytree=0.8219128895204542,\n",
    "    min_child_weight=3\n",
    ")\n",
    "best_XGB.fit(X_train, y_train)\n",
    "y_pred = best_XGB.predict(X_test)\n",
    "test_values(y_pred, y_test)"
   ]
  },
  {
   "cell_type": "code",
   "execution_count": 263,
   "metadata": {},
   "outputs": [
    {
     "name": "stdout",
     "output_type": "stream",
     "text": [
      "Fold 1\n"
     ]
    },
    {
     "name": "stderr",
     "output_type": "stream",
     "text": [
      "/Users/The_real_G/anaconda3/lib/python3.11/site-packages/xgboost/training.py:183: UserWarning: [20:05:34] WARNING: /Users/runner/work/xgboost/xgboost/src/learner.cc:738: \n",
      "Parameters: { \"use_label_encoder\" } are not used.\n",
      "\n",
      "  bst.update(dtrain, iteration=i, fobj=obj)\n"
     ]
    },
    {
     "name": "stdout",
     "output_type": "stream",
     "text": [
      "Validation accuracy: 0.7780333525014376\n",
      "Fold 2\n"
     ]
    },
    {
     "name": "stderr",
     "output_type": "stream",
     "text": [
      "/Users/The_real_G/anaconda3/lib/python3.11/site-packages/xgboost/training.py:183: UserWarning: [20:05:35] WARNING: /Users/runner/work/xgboost/xgboost/src/learner.cc:738: \n",
      "Parameters: { \"use_label_encoder\" } are not used.\n",
      "\n",
      "  bst.update(dtrain, iteration=i, fobj=obj)\n"
     ]
    },
    {
     "name": "stdout",
     "output_type": "stream",
     "text": [
      "Validation accuracy: 0.7676825761932144\n",
      "Fold 3\n"
     ]
    },
    {
     "name": "stderr",
     "output_type": "stream",
     "text": [
      "/Users/The_real_G/anaconda3/lib/python3.11/site-packages/xgboost/training.py:183: UserWarning: [20:05:35] WARNING: /Users/runner/work/xgboost/xgboost/src/learner.cc:738: \n",
      "Parameters: { \"use_label_encoder\" } are not used.\n",
      "\n",
      "  bst.update(dtrain, iteration=i, fobj=obj)\n"
     ]
    },
    {
     "name": "stdout",
     "output_type": "stream",
     "text": [
      "Validation accuracy: 0.7492811960897068\n",
      "Fold 4\n"
     ]
    },
    {
     "name": "stderr",
     "output_type": "stream",
     "text": [
      "/Users/The_real_G/anaconda3/lib/python3.11/site-packages/xgboost/training.py:183: UserWarning: [20:05:36] WARNING: /Users/runner/work/xgboost/xgboost/src/learner.cc:738: \n",
      "Parameters: { \"use_label_encoder\" } are not used.\n",
      "\n",
      "  bst.update(dtrain, iteration=i, fobj=obj)\n"
     ]
    },
    {
     "name": "stdout",
     "output_type": "stream",
     "text": [
      "Validation accuracy: 0.7911392405063291\n",
      "Fold 5\n"
     ]
    },
    {
     "name": "stderr",
     "output_type": "stream",
     "text": [
      "/Users/The_real_G/anaconda3/lib/python3.11/site-packages/xgboost/training.py:183: UserWarning: [20:05:36] WARNING: /Users/runner/work/xgboost/xgboost/src/learner.cc:738: \n",
      "Parameters: { \"use_label_encoder\" } are not used.\n",
      "\n",
      "  bst.update(dtrain, iteration=i, fobj=obj)\n"
     ]
    },
    {
     "name": "stdout",
     "output_type": "stream",
     "text": [
      "Validation accuracy: 0.7681242807825086\n",
      "Mean CV accuracy: 0.7708521292146393\n"
     ]
    }
   ],
   "source": [
    "from sklearn.model_selection import StratifiedKFold\n",
    "\n",
    "\n",
    "training_df = pd.read_csv('train.csv')\n",
    "# Assume target is defined, e.g. target = training_df['Transported'] or your label column\n",
    "target = training_df['Transported'].reset_index(drop=True)\n",
    "\n",
    "skf = StratifiedKFold(n_splits=5, shuffle=True, random_state=42)\n",
    "\n",
    "accuracies = []\n",
    "oof_preds = np.zeros(len(training_df))  # out-of-fold predictions placeholder\n",
    "\n",
    "for fold, (train_idx, val_idx) in enumerate(skf.split(training_df, target)):\n",
    "    print(f'Fold {fold+1}')\n",
    "    train_data = training_df.iloc[train_idx]\n",
    "    val_data = training_df.iloc[val_idx]\n",
    "\n",
    "    # Preprocess training data for this fold\n",
    "    X_train_fold, y_train_fold, preprocessor, num_bins_edges = filter_data3(train_data, train=True)\n",
    "    X_val_fold = filter_data3(val_data, train=False, preprocessor=preprocessor, num_bins_edges=num_bins_edges)\n",
    "    y_val_fold = target.iloc[val_idx]\n",
    "\n",
    "    model = XGBClassifier(\n",
    "        max_depth=6,\n",
    "        learning_rate=0.02,\n",
    "        n_estimators=200,\n",
    "        subsample=0.8,\n",
    "        colsample_bytree=0.8,\n",
    "        min_child_weight=3,\n",
    "        random_state=42,\n",
    "        use_label_encoder=False,\n",
    "        eval_metric='logloss'\n",
    "    )\n",
    "    model.fit(X_train_fold, y_train_fold)\n",
    "\n",
    "    val_preds = model.predict(X_val_fold)\n",
    "    acc = accuracy_score(y_val_fold, val_preds)\n",
    "    print(f'Validation accuracy: {acc}')\n",
    "    accuracies.append(acc)\n",
    "\n",
    "    # Store OOF predictions\n",
    "    oof_preds[val_idx] = val_preds\n",
    "\n",
    "print(f'Mean CV accuracy: {np.mean(accuracies)}')\n"
   ]
  },
  {
   "cell_type": "code",
   "execution_count": 226,
   "metadata": {},
   "outputs": [],
   "source": [
    "test_df = pd.read_csv('test.csv')\n",
    "\n",
    "\n",
    "\n",
    "passenger_ids = test_df['PassengerId']\n",
    "X_test_processed = filter_data3(test_df, train=False, preprocessor=preprocessor, num_bins_edges=num_bins_edges)\n",
    "predictions = model.predict(X_test_processed)\n",
    "submission = pd.DataFrame({\n",
    "        'PassengerId': passenger_ids,\n",
    "        'Transported': predictions.astype(bool)\n",
    "    })\n",
    "submission.to_csv('submission2.csv', index=False)"
   ]
  },
  {
   "cell_type": "code",
   "execution_count": 153,
   "metadata": {},
   "outputs": [
    {
     "name": "stdout",
     "output_type": "stream",
     "text": [
      "                               Feature  Importance\n",
      "10                 num__total spending    0.237811\n",
      "11                     num__sqrt_spend    0.157386\n",
      "5                       num__FoodCourt    0.154482\n",
      "6                    num__ShoppingMall    0.118099\n",
      "0                      num__HomePlanet    0.067838\n",
      "1                       num__CryoSleep    0.055858\n",
      "73  cat__combination_GS(913.0, 1284.0]    0.023254\n",
      "8                          num__VRDeck    0.022997\n",
      "7                             num__Spa    0.022779\n",
      "3                             num__Age    0.021545\n",
      "4                     num__RoomService    0.017550\n",
      "71   cat__combination_GS(556.0, 913.0]    0.010610\n",
      "9                      num__NameLength    0.009318\n",
      "38   cat__combination_EP(309.0, 556.0]    0.009039\n",
      "29    cat__combination_CS(91.0, 193.0]    0.008450\n",
      "59  cat__combination_FS(913.0, 1284.0]    0.007886\n",
      "2                     num__Destination    0.007241\n",
      "57   cat__combination_FS(556.0, 913.0]    0.004639\n",
      "40    cat__combination_EP(91.0, 193.0]    0.004454\n",
      "37   cat__combination_EP(193.0, 309.0]    0.003840\n"
     ]
    },
    {
     "data": {
      "image/png": "[encoded data removed]",
      "text/plain": [
       "<Figure size 1000x800 with 1 Axes>"
      ]
     },
     "metadata": {},
     "output_type": "display_data"
    }
   ],
   "source": [
    "import seaborn as sns\n",
    "\n",
    "importances = model.feature_importances_\n",
    "feature_names = preprocessor.get_feature_names_out()\n",
    "feature_df = pd.DataFrame({'Feature': feature_names, 'Importance': importances})\n",
    "feature_df = feature_df.sort_values(by=\"Importance\", ascending=False).head(20)\n",
    "print(feature_df)\n",
    "# Plot\n",
    "plt.figure(figsize=(10, 8))\n",
    "sns.barplot(x=\"Importance\", y=\"Feature\", data=feature_df)\n",
    "plt.title(\"Top 20 Feature Importances\")\n",
    "plt.tight_layout()\n",
    "plt.show()"
   ]
  }
 ],
 "metadata": {
  "kernelspec": {
   "display_name": "base",
   "language": "python",
   "name": "python3"
  },
  "language_info": {
   "codemirror_mode": {
    "name": "ipython",
    "version": 3
   },
   "file_extension": ".py",
   "mimetype": "text/x-python",
   "name": "python",
   "nbconvert_exporter": "python",
   "pygments_lexer": "ipython3",
   "version": "3.11.5"
  }
 },
 "nbformat": 4,
 "nbformat_minor": 2
}
