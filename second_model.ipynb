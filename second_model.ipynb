{
 "cells": [
  {
   "cell_type": "code",
   "execution_count": 6,
   "metadata": {},
   "outputs": [],
   "source": [
    "import matplotlib.pyplot as plt\n",
    "import numpy as np\n",
    "import pandas as pd\n",
    "from sklearn.preprocessing import StandardScaler\n",
    "from sklearn.ensemble import GradientBoostingRegressor\n",
    "from sklearn.model_selection import train_test_split\n",
    "from sklearn.compose import ColumnTransformer\n",
    "from sklearn.decomposition import PCA\n",
    "from sklearn.metrics import mean_squared_error, r2_score\n",
    "from sklearn.experimental import enable_iterative_imputer\n",
    "from sklearn.impute import IterativeImputer\n",
    "from sklearn.metrics import accuracy_score, precision_score, recall_score, f1_score, confusion_matrix\n",
    "from sklearn.neural_network import MLPClassifier\n",
    "from xgboost import XGBClassifier\n",
    "from sklearn.ensemble import GradientBoostingClassifier, HistGradientBoostingClassifier, RandomForestClassifier\n",
    "from sklearn.model_selection import GridSearchCV, StratifiedKFold\n",
    "from catboost import CatBoostClassifier\n",
    "from sklearn.ensemble import StackingClassifier\n",
    "from sklearn.linear_model import LogisticRegression\n",
    "import joblib\n",
    "from sklearn.impute import SimpleImputer\n",
    "from sklearn.preprocessing import OneHotEncoder\n",
    "from sklearn.pipeline import Pipeline\n",
    "\n",
    "\n",
    "train_df = pd.read_csv('train.csv')"
   ]
  },
  {
   "cell_type": "code",
   "execution_count": 5,
   "metadata": {},
   "outputs": [],
   "source": [
    "def filter_data(data, train = True, preprocessor=None):\n",
    "    training_data = data.copy()\n",
    "    training_data['NameLength'] = training_data['Name'].str.len()\n",
    "    training_data[['Deck', 'Num', 'Side']] = training_data['Cabin'].str.split('/', expand=True)\n",
    "    training_data = training_data.drop(columns=['PassengerId', 'Name', 'Cabin'])\n",
    "\n",
    "    target = None\n",
    "    if train:\n",
    "        target = training_data['Transported']\n",
    "        training_data = training_data.drop(columns=['Transported'])\n",
    "\n",
    "    features  = training_data.columns.tolist()\n",
    "    categorical_features = ['HomePlanet', 'Destination', 'Side', 'Deck']\n",
    "    numeric_features = [col for col in features if col not in categorical_features]\n",
    "\n",
    "    for col in ['CryoSleep', 'VIP']:\n",
    "        training_data[col] = training_data[col].fillna(False).astype(int)\n",
    "\n",
    "    training_data['Num'] = pd.to_numeric(training_data['Num'], errors='coerce')\n",
    "\n",
    "\n",
    "\n",
    "    if preprocessor is None:\n",
    "        numeric_transformer = Pipeline([\n",
    "            ('imputer', SimpleImputer(strategy='median')),\n",
    "            ('scaler', StandardScaler())\n",
    "        ])\n",
    "\n",
    "        categorical_transformer = Pipeline([\n",
    "            ('imputer', SimpleImputer(strategy='most_frequent')),\n",
    "            ('onehot', OneHotEncoder(handle_unknown='ignore'))\n",
    "        ])\n",
    "\n",
    "        preprocessor = ColumnTransformer([\n",
    "            ('num', numeric_transformer, numeric_features),\n",
    "            ('cat', categorical_transformer, categorical_features)\n",
    "        ])\n",
    "\n",
    "        X_processed = preprocessor.fit_transform(training_data)\n",
    "\n",
    "    else:\n",
    "        # Use passed preprocessor to transform (inference mode)\n",
    "        X_processed = preprocessor.transform(training_data)\n",
    "\n",
    "    if train:\n",
    "        return X_processed, target, preprocessor\n",
    "    else:\n",
    "        return X_processed"
   ]
  },
  {
   "cell_type": "code",
   "execution_count": 7,
   "metadata": {},
   "outputs": [],
   "source": [
    "def test(y_pred, y_test):\n",
    "    y_pred = np.array(y_pred)\n",
    "\n",
    "    # ✅ If shape is (n_samples, 1), flatten it to (n_samples,)\n",
    "    if y_pred.ndim > 1:\n",
    "        y_pred = y_pred.ravel()\n",
    "\n",
    "    # ✅ Only threshold if values are probabilities (i.e. float)\n",
    "    if y_pred.dtype != int and y_pred.dtype != np.int64:\n",
    "        y_pred = (y_pred >= 0.5).astype(int)\n",
    "\n",
    "    np_y_test = np.array(y_test)\n",
    "    print(np.unique(np_y_test), np_y_test.dtype)\n",
    "    print(np.unique(y_pred), y_pred.dtype)\n",
    "\n",
    "\n",
    "    acc = accuracy_score(np_y_test, y_pred)\n",
    "    prec = precision_score(np_y_test, y_pred)\n",
    "    rec = recall_score(np_y_test, y_pred)\n",
    "    f1 = f1_score(np_y_test, y_pred)\n",
    "\n",
    "    print(f\"\\nAccuracy: {acc:.4f}\")\n",
    "    print(f\"Precision: {prec:.4f}\")\n",
    "    print(f\"Recall: {rec:.4f}\")\n",
    "    print(f\"F1 Score: {f1:.4f}\")\n",
    "    print(\"Confusion Matrix:\\n\", confusion_matrix(np_y_test, y_pred))"
   ]
  },
  {
   "cell_type": "code",
   "execution_count": 10,
   "metadata": {},
   "outputs": [
    {
     "name": "stdout",
     "output_type": "stream",
     "text": [
      "[False  True] bool\n",
      "[0 1] int64\n",
      "\n",
      "Accuracy: 0.7851\n",
      "Precision: 0.8017\n",
      "Recall: 0.7167\n",
      "F1 Score: 0.7568\n",
      "Confusion Matrix:\n",
      " [[392  72]\n",
      " [115 291]]\n"
     ]
    }
   ],
   "source": [
    "processed_data, target, preprocessor = X_train, y_train, preprocessor = filter_data(train_df, train=True)\n",
    "\n",
    "X_train, X_test, y_train, y_test = train_test_split(processed_data, target, test_size=0.1, random_state=42, shuffle=False)\n",
    "model = GradientBoostingClassifier(n_estimators=300, learning_rate=0.1, max_depth=3, random_state=42)\n",
    "model.fit(X_train, y_train)\n",
    "y_pred = model.predict(X_test)\n",
    "test(y_pred, y_test)"
   ]
  },
  {
   "cell_type": "markdown",
   "metadata": {},
   "source": []
  }
 ],
 "metadata": {
  "kernelspec": {
   "display_name": "base",
   "language": "python",
   "name": "python3"
  },
  "language_info": {
   "codemirror_mode": {
    "name": "ipython",
    "version": 3
   },
   "file_extension": ".py",
   "mimetype": "text/x-python",
   "name": "python",
   "nbconvert_exporter": "python",
   "pygments_lexer": "ipython3",
   "version": "3.11.5"
  }
 },
 "nbformat": 4,
 "nbformat_minor": 2
}
